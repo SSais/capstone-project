{
 "cells": [
  {
   "cell_type": "markdown",
   "id": "0b6965cc",
   "metadata": {},
   "source": [
    "The goal of the extract block will be to extract the data from the API in AWS Lambda and save the raw data, AWS event bridge will trigger the Lambda function daily.\n",
    "- save in the origonal format\n",
    "- compress data (will do this at the last step \n",
    "- )\n",
    "- create a new partition for a new save (YYYY/MM/DD)\n"
   ]
  },
  {
   "cell_type": "code",
   "execution_count": null,
   "id": "ef270ea8",
   "metadata": {},
   "outputs": [],
   "source": [
    "import datetime"
   ]
  },
  {
   "cell_type": "code",
   "execution_count": 14,
   "id": "a8f1464a",
   "metadata": {},
   "outputs": [],
   "source": [
    "current_date = datetime.datetime.now()\n",
    "year = current_date.strftime('%Y')\n",
    "month = current_date.strftime('%m')\n",
    "day = current_date.strftime('%d')"
   ]
  },
  {
   "cell_type": "code",
   "execution_count": 15,
   "id": "c0b952b5",
   "metadata": {},
   "outputs": [
    {
     "name": "stdout",
     "output_type": "stream",
     "text": [
      "07\n"
     ]
    }
   ],
   "source": [
    "print(f\"{day}\")\n"
   ]
  },
  {
   "cell_type": "markdown",
   "id": "121366cd",
   "metadata": {},
   "source": [
    "For the transformation: \n",
    "Need to calculate return\n",
    "calculate sma200? ema 200?\n",
    "calculate EPS?\n",
    "sharpe index\n",
    "look at 'yesterdays' transformed data and add 'todays' data\n",
    "zip and parquet"
   ]
  },
  {
   "cell_type": "code",
   "execution_count": null,
   "id": "801334ae",
   "metadata": {},
   "outputs": [],
   "source": [
    "import pandas as pd\n",
    "import pyarrow as pa"
   ]
  }
 ],
 "metadata": {
  "kernelspec": {
   "display_name": ".venv",
   "language": "python",
   "name": "python3"
  },
  "language_info": {
   "codemirror_mode": {
    "name": "ipython",
    "version": 3
   },
   "file_extension": ".py",
   "mimetype": "text/x-python",
   "name": "python",
   "nbconvert_exporter": "python",
   "pygments_lexer": "ipython3",
   "version": "3.12.3"
  }
 },
 "nbformat": 4,
 "nbformat_minor": 5
}
