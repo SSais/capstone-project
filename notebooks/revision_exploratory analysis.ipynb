{
 "cells": [
  {
   "cell_type": "markdown",
   "id": "0b6965cc",
   "metadata": {},
   "source": [
    "The goal of the extract block will be to extract the data from the API in AWS Lambda and save the raw data, AWS event bridge will trigger the Lambda function daily.\n",
    "- save in the origonal format\n",
    "- compress data\n",
    "- create a new partition for a new save (YYYY/MM/DD)\n"
   ]
  },
  {
   "cell_type": "code",
   "execution_count": 5,
   "id": "ef270ea8",
   "metadata": {},
   "outputs": [],
   "source": [
    "import os\n",
    "import datetime\n",
    "import pandas as pd\n",
    "import requests\n",
    "import timeit\n",
    "import boto3\n"
   ]
  },
  {
   "cell_type": "code",
   "execution_count": 14,
   "id": "a8f1464a",
   "metadata": {},
   "outputs": [],
   "source": [
    "current_date = datetime.datetime.now()\n",
    "year = current_date.strftime('%Y')\n",
    "month = current_date.strftime('%m')\n",
    "day = current_date.strftime('%d')"
   ]
  },
  {
   "cell_type": "code",
   "execution_count": 15,
   "id": "c0b952b5",
   "metadata": {},
   "outputs": [
    {
     "name": "stdout",
     "output_type": "stream",
     "text": [
      "07\n"
     ]
    }
   ],
   "source": [
    "print(f\"{day}\")\n"
   ]
  }
 ],
 "metadata": {
  "kernelspec": {
   "display_name": ".venv",
   "language": "python",
   "name": "python3"
  },
  "language_info": {
   "codemirror_mode": {
    "name": "ipython",
    "version": 3
   },
   "file_extension": ".py",
   "mimetype": "text/x-python",
   "name": "python",
   "nbconvert_exporter": "python",
   "pygments_lexer": "ipython3",
   "version": "3.12.3"
  }
 },
 "nbformat": 4,
 "nbformat_minor": 5
}
