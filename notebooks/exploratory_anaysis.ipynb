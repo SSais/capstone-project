{
 "cells": [
  {
   "cell_type": "code",
   "execution_count": 17,
   "id": "a0fcf8be",
   "metadata": {},
   "outputs": [],
   "source": [
    "import pandas as pd\n",
    "from dotenv import load_dotenv\n",
    "import requests\n",
    "import os\n",
    "\n",
    "load_dotenv()\n",
    "API_KEY = os.environ.get('API_KEY')"
   ]
  },
  {
   "cell_type": "code",
   "execution_count": 18,
   "id": "bc097d62",
   "metadata": {},
   "outputs": [
    {
     "name": "stdout",
     "output_type": "stream",
     "text": [
      "200\n",
      "{'Information': 'We have detected your API key as LVWL1693JOOBIKZG and our standard API rate limit is 25 requests per day. Please subscribe to any of the premium plans at https://www.alphavantage.co/premium/ to instantly remove all daily rate limits.'}\n"
     ]
    }
   ],
   "source": [
    "\n",
    "\n",
    "# Genmab weekly API\n",
    "# url = f'https://www.alphavantage.co/query?function=TIME_SERIES_WEEKLY&symbol=GMAB&apikey={API_KEY}' genmab weekly\n",
    "\n",
    "# Genmab daily API\n",
    "# url = f'https://www.alphavantage.co/query?function=TIME_SERIES_DAILY&symbol=GMAB&apikey={API_KEY}' \n",
    "\n",
    "# Genmab overview api\n",
    "url = f'https://www.alphavantage.co/query?function=OVERVIEW&symbol=ARGX&apikey={API_KEY}'\n",
    "\n",
    "# https://www.alphavantage.co/query?function=TIME_SERIES_DAILY&symbol=IBM&outputsize=full&apikey=demo to get the full ouput size of stock. the default is 100 last datapoints\n",
    "\n",
    "try:\n",
    "    response = requests.get(url)\n",
    "    print(response.status_code)\n",
    "    data = response.json()\n",
    "except Exception:\n",
    "    raise Exception('An error occurred')\n",
    "\n",
    "print(data)\n"
   ]
  },
  {
   "cell_type": "code",
   "execution_count": 13,
   "id": "b590bdb1",
   "metadata": {},
   "outputs": [
    {
     "name": "stdout",
     "output_type": "stream",
     "text": [
      "{'1. Information': 'Daily Prices (open, high, low, close) and Volumes', '2. Symbol': 'GMAB', '3. Last Refreshed': '2025-05-07', '4. Output Size': 'Compact', '5. Time Zone': 'US/Eastern'}\n"
     ]
    }
   ],
   "source": [
    "print(data['Meta Data'])"
   ]
  },
  {
   "cell_type": "code",
   "execution_count": null,
   "id": "23c76fa8",
   "metadata": {},
   "outputs": [
    {
     "name": "stdout",
     "output_type": "stream",
     "text": [
      "{'Symbol': 'GMAB', 'AssetType': 'Common Stock', 'Name': 'Genmab AS', 'Description': 'Genmab A / S develops antibody therapies for the treatment of cancer and other diseases mainly in Denmark. The company is headquartered in Copenhagen, Denmark.', 'CIK': '1434265', 'Exchange': 'NASDAQ', 'Currency': 'USD', 'Country': 'USA', 'Sector': 'LIFE SCIENCES', 'Industry': 'PHARMACEUTICAL PREPARATIONS', 'Address': 'TOLDBODGADE 33, 1253 COPENHAGEN K, DK', 'OfficialSite': 'https://www.genmab.com', 'FiscalYearEnd': 'December', 'LatestQuarter': '2024-12-31', 'MarketCapitalization': '13497110000', 'EBITDA': '7390000000', 'PERatio': '11.71', 'PEGRatio': '1.131', 'BookValue': '577.54', 'DividendPerShare': 'None', 'DividendYield': 'None', 'EPS': '1.84', 'RevenuePerShareTTM': '33.54', 'ProfitMargin': '0.364', 'OperatingMarginTTM': '0.352', 'ReturnOnAssetsTTM': '0.109', 'ReturnOnEquityTTM': '0.23', 'RevenueTTM': '21526000000', 'GrossProfitTTM': '20541000000', 'DilutedEPSTTM': '1.84', 'QuarterlyEarningsGrowthYOY': '4.634', 'QuarterlyRevenueGrowthYOY': '0.353', 'AnalystTargetPrice': '29.5', 'AnalystRatingStrongBuy': '1', 'AnalystRatingBuy': '4', 'AnalystRatingHold': '4', 'AnalystRatingSell': '0', 'AnalystRatingStrongSell': '0', 'TrailingPE': '11.71', 'ForwardPE': '11.88', 'PriceToSalesRatioTTM': '0.627', 'PriceToBookRatio': '2.401', 'EVToRevenue': '3.177', 'EVToEBITDA': '7.05', 'Beta': '0.901', '52WeekHigh': '30.41', '52WeekLow': '17.23', '50DayMovingAverage': '20.53', '200DayMovingAverage': '22.69', 'SharesOutstanding': '622357000', 'DividendDate': 'None', 'ExDividendDate': 'None'}\n"
     ]
    }
   ],
   "source": [
    "# for weekly use data['Time Series Weekly']\n",
    "# for daily use data['Time Series (Daily)']\n",
    "# for company overview data\n",
    "\n",
    "stock_data = data\n",
    "print(stock_data)"
   ]
  },
  {
   "cell_type": "code",
   "execution_count": null,
   "id": "0d6d2844",
   "metadata": {},
   "outputs": [],
   "source": [
    "# for company overview add index=[0]\n",
    "df = pd.DataFrame(stock_data, index=[0])\n",
    "\n",
    "# to save the data locally - so that I can use those files rather than calling api\n",
    "df.to_json(path_or_buf='../data/raw/argx-overview.json', index=False)"
   ]
  },
  {
   "cell_type": "code",
   "execution_count": 31,
   "id": "2d38ac6f",
   "metadata": {},
   "outputs": [
    {
     "data": {
      "application/vnd.microsoft.datawrangler.viewer.v0+json": {
       "columns": [
        {
         "name": "index",
         "rawType": "int64",
         "type": "integer"
        },
        {
         "name": "2025-05-06",
         "rawType": "float64",
         "type": "float"
        },
        {
         "name": "2025-05-05",
         "rawType": "float64",
         "type": "float"
        },
        {
         "name": "2025-05-02",
         "rawType": "float64",
         "type": "float"
        },
        {
         "name": "2025-05-01",
         "rawType": "float64",
         "type": "float"
        },
        {
         "name": "2025-04-30",
         "rawType": "float64",
         "type": "float"
        },
        {
         "name": "2025-04-29",
         "rawType": "float64",
         "type": "float"
        },
        {
         "name": "2025-04-28",
         "rawType": "float64",
         "type": "float"
        },
        {
         "name": "2025-04-25",
         "rawType": "float64",
         "type": "float"
        },
        {
         "name": "2025-04-24",
         "rawType": "float64",
         "type": "float"
        },
        {
         "name": "2025-04-23",
         "rawType": "float64",
         "type": "float"
        },
        {
         "name": "2025-04-22",
         "rawType": "float64",
         "type": "float"
        },
        {
         "name": "2025-04-21",
         "rawType": "float64",
         "type": "float"
        },
        {
         "name": "2025-04-17",
         "rawType": "float64",
         "type": "float"
        },
        {
         "name": "2025-04-16",
         "rawType": "float64",
         "type": "float"
        },
        {
         "name": "2025-04-15",
         "rawType": "float64",
         "type": "float"
        },
        {
         "name": "2025-04-14",
         "rawType": "float64",
         "type": "float"
        },
        {
         "name": "2025-04-11",
         "rawType": "float64",
         "type": "float"
        },
        {
         "name": "2025-04-10",
         "rawType": "float64",
         "type": "float"
        },
        {
         "name": "2025-04-09",
         "rawType": "float64",
         "type": "float"
        },
        {
         "name": "2025-04-08",
         "rawType": "float64",
         "type": "float"
        },
        {
         "name": "2025-04-07",
         "rawType": "float64",
         "type": "float"
        },
        {
         "name": "2025-04-04",
         "rawType": "float64",
         "type": "float"
        },
        {
         "name": "2025-04-03",
         "rawType": "float64",
         "type": "float"
        },
        {
         "name": "2025-04-02",
         "rawType": "float64",
         "type": "float"
        },
        {
         "name": "2025-04-01",
         "rawType": "float64",
         "type": "float"
        },
        {
         "name": "2025-03-31",
         "rawType": "float64",
         "type": "float"
        },
        {
         "name": "2025-03-28",
         "rawType": "float64",
         "type": "float"
        },
        {
         "name": "2025-03-27",
         "rawType": "float64",
         "type": "float"
        },
        {
         "name": "2025-03-26",
         "rawType": "float64",
         "type": "float"
        },
        {
         "name": "2025-03-25",
         "rawType": "float64",
         "type": "float"
        },
        {
         "name": "2025-03-24",
         "rawType": "float64",
         "type": "float"
        },
        {
         "name": "2025-03-21",
         "rawType": "float64",
         "type": "float"
        },
        {
         "name": "2025-03-20",
         "rawType": "float64",
         "type": "float"
        },
        {
         "name": "2025-03-19",
         "rawType": "float64",
         "type": "float"
        },
        {
         "name": "2025-03-18",
         "rawType": "float64",
         "type": "float"
        },
        {
         "name": "2025-03-17",
         "rawType": "float64",
         "type": "float"
        },
        {
         "name": "2025-03-14",
         "rawType": "float64",
         "type": "float"
        },
        {
         "name": "2025-03-13",
         "rawType": "float64",
         "type": "float"
        },
        {
         "name": "2025-03-12",
         "rawType": "float64",
         "type": "float"
        },
        {
         "name": "2025-03-11",
         "rawType": "float64",
         "type": "float"
        },
        {
         "name": "2025-03-10",
         "rawType": "float64",
         "type": "float"
        },
        {
         "name": "2025-03-07",
         "rawType": "float64",
         "type": "float"
        },
        {
         "name": "2025-03-06",
         "rawType": "float64",
         "type": "float"
        },
        {
         "name": "2025-03-05",
         "rawType": "float64",
         "type": "float"
        },
        {
         "name": "2025-03-04",
         "rawType": "float64",
         "type": "float"
        },
        {
         "name": "2025-03-03",
         "rawType": "float64",
         "type": "float"
        },
        {
         "name": "2025-02-28",
         "rawType": "float64",
         "type": "float"
        },
        {
         "name": "2025-02-27",
         "rawType": "float64",
         "type": "float"
        },
        {
         "name": "2025-02-26",
         "rawType": "float64",
         "type": "float"
        },
        {
         "name": "2025-02-25",
         "rawType": "float64",
         "type": "float"
        },
        {
         "name": "2025-02-24",
         "rawType": "float64",
         "type": "float"
        },
        {
         "name": "2025-02-21",
         "rawType": "float64",
         "type": "float"
        },
        {
         "name": "2025-02-20",
         "rawType": "float64",
         "type": "float"
        },
        {
         "name": "2025-02-19",
         "rawType": "float64",
         "type": "float"
        },
        {
         "name": "2025-02-18",
         "rawType": "float64",
         "type": "float"
        },
        {
         "name": "2025-02-14",
         "rawType": "float64",
         "type": "float"
        },
        {
         "name": "2025-02-13",
         "rawType": "float64",
         "type": "float"
        },
        {
         "name": "2025-02-12",
         "rawType": "float64",
         "type": "float"
        },
        {
         "name": "2025-02-11",
         "rawType": "float64",
         "type": "float"
        },
        {
         "name": "2025-02-10",
         "rawType": "float64",
         "type": "float"
        },
        {
         "name": "2025-02-07",
         "rawType": "float64",
         "type": "float"
        },
        {
         "name": "2025-02-06",
         "rawType": "float64",
         "type": "float"
        },
        {
         "name": "2025-02-05",
         "rawType": "float64",
         "type": "float"
        },
        {
         "name": "2025-02-04",
         "rawType": "float64",
         "type": "float"
        },
        {
         "name": "2025-02-03",
         "rawType": "float64",
         "type": "float"
        },
        {
         "name": "2025-01-31",
         "rawType": "float64",
         "type": "float"
        },
        {
         "name": "2025-01-30",
         "rawType": "float64",
         "type": "float"
        },
        {
         "name": "2025-01-29",
         "rawType": "float64",
         "type": "float"
        },
        {
         "name": "2025-01-28",
         "rawType": "float64",
         "type": "float"
        },
        {
         "name": "2025-01-27",
         "rawType": "float64",
         "type": "float"
        },
        {
         "name": "2025-01-24",
         "rawType": "float64",
         "type": "float"
        },
        {
         "name": "2025-01-23",
         "rawType": "float64",
         "type": "float"
        },
        {
         "name": "2025-01-22",
         "rawType": "float64",
         "type": "float"
        },
        {
         "name": "2025-01-21",
         "rawType": "float64",
         "type": "float"
        },
        {
         "name": "2025-01-17",
         "rawType": "float64",
         "type": "float"
        },
        {
         "name": "2025-01-16",
         "rawType": "float64",
         "type": "float"
        },
        {
         "name": "2025-01-15",
         "rawType": "float64",
         "type": "float"
        },
        {
         "name": "2025-01-14",
         "rawType": "float64",
         "type": "float"
        },
        {
         "name": "2025-01-13",
         "rawType": "float64",
         "type": "float"
        },
        {
         "name": "2025-01-10",
         "rawType": "float64",
         "type": "float"
        },
        {
         "name": "2025-01-08",
         "rawType": "float64",
         "type": "float"
        },
        {
         "name": "2025-01-07",
         "rawType": "float64",
         "type": "float"
        },
        {
         "name": "2025-01-06",
         "rawType": "float64",
         "type": "float"
        },
        {
         "name": "2025-01-03",
         "rawType": "float64",
         "type": "float"
        },
        {
         "name": "2025-01-02",
         "rawType": "float64",
         "type": "float"
        },
        {
         "name": "2024-12-31",
         "rawType": "float64",
         "type": "float"
        },
        {
         "name": "2024-12-30",
         "rawType": "float64",
         "type": "float"
        },
        {
         "name": "2024-12-27",
         "rawType": "float64",
         "type": "float"
        },
        {
         "name": "2024-12-26",
         "rawType": "float64",
         "type": "float"
        },
        {
         "name": "2024-12-24",
         "rawType": "float64",
         "type": "float"
        },
        {
         "name": "2024-12-23",
         "rawType": "float64",
         "type": "float"
        },
        {
         "name": "2024-12-20",
         "rawType": "float64",
         "type": "float"
        },
        {
         "name": "2024-12-19",
         "rawType": "float64",
         "type": "float"
        },
        {
         "name": "2024-12-18",
         "rawType": "float64",
         "type": "float"
        },
        {
         "name": "2024-12-17",
         "rawType": "float64",
         "type": "float"
        },
        {
         "name": "2024-12-16",
         "rawType": "float64",
         "type": "float"
        },
        {
         "name": "2024-12-13",
         "rawType": "float64",
         "type": "float"
        },
        {
         "name": "2024-12-12",
         "rawType": "float64",
         "type": "float"
        },
        {
         "name": "2024-12-11",
         "rawType": "float64",
         "type": "float"
        },
        {
         "name": "2024-12-10",
         "rawType": "float64",
         "type": "float"
        }
       ],
       "conversionMethod": "pd.DataFrame",
       "ref": "d8e0c37d-8af2-4f4a-ac77-d2fc6d8c31f1",
       "rows": [
        [
         "0",
         "21.24",
         "21.76",
         "21.59",
         "21.31",
         "21.03",
         "21.04",
         "20.65",
         "20.47",
         "20.35",
         "20.29",
         "19.68",
         "20.0",
         "19.47",
         "19.55",
         "19.65",
         "19.2",
         "18.64",
         "18.68",
         "17.71",
         "18.89",
         "18.02",
         "18.8",
         "19.19",
         "18.48",
         "19.09",
         "19.53",
         "19.81",
         "19.94",
         "19.73",
         "19.67",
         "19.01",
         "19.77",
         "19.92",
         "20.16",
         "20.47",
         "20.24",
         "20.96",
         "19.79",
         "20.2",
         "20.71",
         "23.93",
         "24.04",
         "23.76",
         "23.98",
         "23.11",
         "23.25",
         "22.64",
         "22.56",
         "22.84",
         "23.13",
         "22.455",
         "22.32",
         "22.07",
         "21.45",
         "21.34",
         "21.08",
         "20.11",
         "18.87",
         "19.05",
         "18.93",
         "19.29",
         "19.31",
         "19.3",
         "19.19",
         "19.1",
         "19.78",
         "19.66",
         "19.5",
         "19.26",
         "21.01",
         "21.09",
         "21.26",
         "21.52",
         "21.35",
         "20.85",
         "20.93",
         "20.39",
         "22.0",
         "21.64",
         "22.05",
         "22.15",
         "22.19",
         "21.48",
         "21.15",
         "21.13",
         "20.77",
         "20.82",
         "20.87",
         "20.45",
         "20.65",
         "20.71",
         "20.22",
         "20.25",
         "20.76",
         "19.95",
         "19.94",
         "20.46",
         "20.98",
         "21.75",
         "22.17"
        ],
        [
         "1",
         "21.24",
         "21.76",
         "21.66",
         "21.32",
         "21.24",
         "21.075",
         "20.7256",
         "20.635",
         "20.55",
         "20.39",
         "20.285",
         "20.18",
         "20.16",
         "19.735",
         "19.685",
         "19.37",
         "18.875",
         "18.7",
         "18.97",
         "18.92",
         "18.68",
         "18.885",
         "19.32",
         "18.85",
         "19.1",
         "19.66",
         "19.96",
         "20.37",
         "19.83",
         "19.68",
         "19.33",
         "19.94",
         "20.09",
         "20.345",
         "20.59",
         "20.85",
         "21.07",
         "20.26",
         "20.36",
         "20.83",
         "24.05",
         "24.325",
         "23.91",
         "24.11",
         "23.455",
         "23.31",
         "22.68",
         "22.845",
         "22.93",
         "23.21",
         "22.61",
         "22.36",
         "22.55",
         "22.06",
         "21.79",
         "21.31",
         "20.98",
         "19.71",
         "19.13",
         "19.015",
         "19.355",
         "19.47",
         "19.625",
         "19.43",
         "19.37",
         "19.97",
         "19.85",
         "19.86",
         "19.59",
         "21.42",
         "21.3099",
         "21.32",
         "21.52",
         "21.85",
         "21.025",
         "21.26",
         "20.6093",
         "22.08",
         "21.735",
         "22.235",
         "22.21",
         "22.275",
         "22.015",
         "21.56",
         "21.2",
         "21.135",
         "20.88",
         "21.12",
         "20.61",
         "20.705",
         "20.855",
         "20.43",
         "20.33",
         "21.025",
         "20.28",
         "20.37",
         "20.48",
         "21.145",
         "21.78",
         "22.19"
        ],
        [
         "2",
         "20.42",
         "21.51",
         "21.345",
         "20.875",
         "20.91",
         "20.745",
         "20.46",
         "20.36",
         "20.25",
         "20.02",
         "19.68",
         "19.725",
         "19.42",
         "19.42",
         "19.35",
         "19.07",
         "18.44",
         "17.575",
         "17.235",
         "17.77",
         "17.815",
         "18.3",
         "19.0",
         "18.48",
         "18.622",
         "19.355",
         "19.73",
         "19.94",
         "19.52",
         "18.995",
         "18.99",
         "19.63",
         "19.82",
         "20.04",
         "20.04",
         "20.2",
         "20.425",
         "19.75",
         "20.07",
         "20.03",
         "21.67",
         "24.0",
         "23.625",
         "23.86",
         "23.04",
         "22.83",
         "22.43",
         "22.545",
         "22.54",
         "22.92",
         "22.35",
         "22.07",
         "22.07",
         "21.45",
         "21.3",
         "21.005",
         "20.03",
         "18.74",
         "18.87",
         "18.635",
         "18.92",
         "19.1542",
         "19.3",
         "19.13",
         "19.0",
         "19.61",
         "19.56",
         "19.34",
         "19.02",
         "20.71",
         "20.9501",
         "21.03",
         "20.96",
         "21.31",
         "20.75",
         "20.7",
         "19.89",
         "21.595",
         "21.32",
         "22.0",
         "21.83",
         "22.05",
         "21.44",
         "21.12",
         "20.87",
         "20.61",
         "20.69",
         "20.81",
         "20.41",
         "20.4",
         "20.5",
         "20.13",
         "19.99",
         "20.12",
         "19.9",
         "19.85",
         "20.12",
         "20.65",
         "21.5",
         "21.805"
        ],
        [
         "3",
         "20.42",
         "21.55",
         "21.48",
         "20.93",
         "21.15",
         "20.79",
         "20.63",
         "20.59",
         "20.54",
         "20.13",
         "20.27",
         "20.07",
         "20.04",
         "19.55",
         "19.51",
         "19.32",
         "18.81",
         "18.01",
         "18.83",
         "17.98",
         "18.19",
         "18.39",
         "19.24",
         "18.82",
         "18.66",
         "19.58",
         "19.9",
         "20.14",
         "19.62",
         "19.06",
         "19.29",
         "19.76",
         "19.84",
         "20.25",
         "20.2",
         "20.8",
         "20.51",
         "19.96",
         "20.21",
         "20.26",
         "21.975",
         "24.14",
         "23.71",
         "24.1",
         "23.33",
         "22.96",
         "22.68",
         "22.73",
         "22.61",
         "22.96",
         "22.5",
         "22.34",
         "22.44",
         "21.97",
         "21.77",
         "21.3",
         "20.92",
         "19.69",
         "18.89",
         "18.69",
         "19.0",
         "19.35",
         "19.47",
         "19.21",
         "19.11",
         "19.67",
         "19.81",
         "19.85",
         "19.58",
         "20.8",
         "21.13",
         "21.29",
         "20.97",
         "21.8",
         "20.8",
         "21.22",
         "20.23",
         "21.64",
         "21.72",
         "22.15",
         "22.19",
         "22.18",
         "21.86",
         "21.47",
         "21.0",
         "20.87",
         "20.77",
         "21.02",
         "20.58",
         "20.47",
         "20.76",
         "20.31",
         "20.09",
         "20.14",
         "20.03",
         "20.02",
         "20.17",
         "20.65",
         "21.55",
         "21.83"
        ],
        [
         "4",
         "1177536.0",
         "974693.0",
         "1490619.0",
         "1263895.0",
         "1354443.0",
         "1230982.0",
         "783386.0",
         "715774.0",
         "769590.0",
         "1292692.0",
         "1791060.0",
         "1074679.0",
         "1135338.0",
         "940320.0",
         "1826066.0",
         "1337520.0",
         "1524787.0",
         "1863288.0",
         "2027662.0",
         "1942332.0",
         "3296077.0",
         "2472573.0",
         "1715434.0",
         "1929097.0",
         "1794029.0",
         "1044787.0",
         "1107633.0",
         "1027809.0",
         "1315875.0",
         "1209218.0",
         "1357016.0",
         "1122333.0",
         "1190408.0",
         "1119381.0",
         "1747545.0",
         "1768667.0",
         "953606.0",
         "1397976.0",
         "1813091.0",
         "3584257.0",
         "5840164.0",
         "803348.0",
         "874090.0",
         "604046.0",
         "811685.0",
         "774847.0",
         "1026825.0",
         "920707.0",
         "901994.0",
         "1052817.0",
         "978049.0",
         "1056869.0",
         "1030526.0",
         "1900121.0",
         "1833163.0",
         "2417859.0",
         "1872721.0",
         "1617004.0",
         "1338236.0",
         "951256.0",
         "1245703.0",
         "1866935.0",
         "1788721.0",
         "1147379.0",
         "1291015.0",
         "1321025.0",
         "1281837.0",
         "5369344.0",
         "5384020.0",
         "2448361.0",
         "583220.0",
         "860581.0",
         "926444.0",
         "898955.0",
         "1120114.0",
         "2663042.0",
         "1838334.0",
         "1003220.0",
         "955011.0",
         "895112.0",
         "602971.0",
         "1050789.0",
         "826155.0",
         "839054.0",
         "1021286.0",
         "490651.0",
         "901929.0",
         "950621.0",
         "751943.0",
         "454756.0",
         "1380277.0",
         "1829681.0",
         "1281450.0",
         "1368010.0",
         "1075782.0",
         "2017427.0",
         "931207.0",
         "958726.0",
         "636995.0",
         "985509.0"
        ]
       ],
       "shape": {
        "columns": 100,
        "rows": 5
       }
      },
      "text/html": [
       "<div>\n",
       "<style scoped>\n",
       "    .dataframe tbody tr th:only-of-type {\n",
       "        vertical-align: middle;\n",
       "    }\n",
       "\n",
       "    .dataframe tbody tr th {\n",
       "        vertical-align: top;\n",
       "    }\n",
       "\n",
       "    .dataframe thead th {\n",
       "        text-align: right;\n",
       "    }\n",
       "</style>\n",
       "<table border=\"1\" class=\"dataframe\">\n",
       "  <thead>\n",
       "    <tr style=\"text-align: right;\">\n",
       "      <th></th>\n",
       "      <th>2025-05-06</th>\n",
       "      <th>2025-05-05</th>\n",
       "      <th>2025-05-02</th>\n",
       "      <th>2025-05-01</th>\n",
       "      <th>2025-04-30</th>\n",
       "      <th>2025-04-29</th>\n",
       "      <th>2025-04-28</th>\n",
       "      <th>2025-04-25</th>\n",
       "      <th>2025-04-24</th>\n",
       "      <th>2025-04-23</th>\n",
       "      <th>...</th>\n",
       "      <th>2024-12-23</th>\n",
       "      <th>2024-12-20</th>\n",
       "      <th>2024-12-19</th>\n",
       "      <th>2024-12-18</th>\n",
       "      <th>2024-12-17</th>\n",
       "      <th>2024-12-16</th>\n",
       "      <th>2024-12-13</th>\n",
       "      <th>2024-12-12</th>\n",
       "      <th>2024-12-11</th>\n",
       "      <th>2024-12-10</th>\n",
       "    </tr>\n",
       "  </thead>\n",
       "  <tbody>\n",
       "    <tr>\n",
       "      <th>0</th>\n",
       "      <td>21.24</td>\n",
       "      <td>21.76</td>\n",
       "      <td>21.590</td>\n",
       "      <td>21.310</td>\n",
       "      <td>21.03</td>\n",
       "      <td>21.040</td>\n",
       "      <td>20.6500</td>\n",
       "      <td>20.470</td>\n",
       "      <td>20.35</td>\n",
       "      <td>20.29</td>\n",
       "      <td>...</td>\n",
       "      <td>20.710</td>\n",
       "      <td>20.22</td>\n",
       "      <td>20.25</td>\n",
       "      <td>20.760</td>\n",
       "      <td>19.95</td>\n",
       "      <td>19.94</td>\n",
       "      <td>20.46</td>\n",
       "      <td>20.980</td>\n",
       "      <td>21.75</td>\n",
       "      <td>22.170</td>\n",
       "    </tr>\n",
       "    <tr>\n",
       "      <th>1</th>\n",
       "      <td>21.24</td>\n",
       "      <td>21.76</td>\n",
       "      <td>21.660</td>\n",
       "      <td>21.320</td>\n",
       "      <td>21.24</td>\n",
       "      <td>21.075</td>\n",
       "      <td>20.7256</td>\n",
       "      <td>20.635</td>\n",
       "      <td>20.55</td>\n",
       "      <td>20.39</td>\n",
       "      <td>...</td>\n",
       "      <td>20.855</td>\n",
       "      <td>20.43</td>\n",
       "      <td>20.33</td>\n",
       "      <td>21.025</td>\n",
       "      <td>20.28</td>\n",
       "      <td>20.37</td>\n",
       "      <td>20.48</td>\n",
       "      <td>21.145</td>\n",
       "      <td>21.78</td>\n",
       "      <td>22.190</td>\n",
       "    </tr>\n",
       "    <tr>\n",
       "      <th>2</th>\n",
       "      <td>20.42</td>\n",
       "      <td>21.51</td>\n",
       "      <td>21.345</td>\n",
       "      <td>20.875</td>\n",
       "      <td>20.91</td>\n",
       "      <td>20.745</td>\n",
       "      <td>20.4600</td>\n",
       "      <td>20.360</td>\n",
       "      <td>20.25</td>\n",
       "      <td>20.02</td>\n",
       "      <td>...</td>\n",
       "      <td>20.500</td>\n",
       "      <td>20.13</td>\n",
       "      <td>19.99</td>\n",
       "      <td>20.120</td>\n",
       "      <td>19.90</td>\n",
       "      <td>19.85</td>\n",
       "      <td>20.12</td>\n",
       "      <td>20.650</td>\n",
       "      <td>21.50</td>\n",
       "      <td>21.805</td>\n",
       "    </tr>\n",
       "    <tr>\n",
       "      <th>3</th>\n",
       "      <td>20.42</td>\n",
       "      <td>21.55</td>\n",
       "      <td>21.480</td>\n",
       "      <td>20.930</td>\n",
       "      <td>21.15</td>\n",
       "      <td>20.790</td>\n",
       "      <td>20.6300</td>\n",
       "      <td>20.590</td>\n",
       "      <td>20.54</td>\n",
       "      <td>20.13</td>\n",
       "      <td>...</td>\n",
       "      <td>20.760</td>\n",
       "      <td>20.31</td>\n",
       "      <td>20.09</td>\n",
       "      <td>20.140</td>\n",
       "      <td>20.03</td>\n",
       "      <td>20.02</td>\n",
       "      <td>20.17</td>\n",
       "      <td>20.650</td>\n",
       "      <td>21.55</td>\n",
       "      <td>21.830</td>\n",
       "    </tr>\n",
       "    <tr>\n",
       "      <th>4</th>\n",
       "      <td>1177536.00</td>\n",
       "      <td>974693.00</td>\n",
       "      <td>1490619.000</td>\n",
       "      <td>1263895.000</td>\n",
       "      <td>1354443.00</td>\n",
       "      <td>1230982.000</td>\n",
       "      <td>783386.0000</td>\n",
       "      <td>715774.000</td>\n",
       "      <td>769590.00</td>\n",
       "      <td>1292692.00</td>\n",
       "      <td>...</td>\n",
       "      <td>1380277.000</td>\n",
       "      <td>1829681.00</td>\n",
       "      <td>1281450.00</td>\n",
       "      <td>1368010.000</td>\n",
       "      <td>1075782.00</td>\n",
       "      <td>2017427.00</td>\n",
       "      <td>931207.00</td>\n",
       "      <td>958726.000</td>\n",
       "      <td>636995.00</td>\n",
       "      <td>985509.000</td>\n",
       "    </tr>\n",
       "  </tbody>\n",
       "</table>\n",
       "<p>5 rows × 100 columns</p>\n",
       "</div>"
      ],
      "text/plain": [
       "   2025-05-06  2025-05-05   2025-05-02   2025-05-01  2025-04-30   2025-04-29  \\\n",
       "0       21.24       21.76       21.590       21.310       21.03       21.040   \n",
       "1       21.24       21.76       21.660       21.320       21.24       21.075   \n",
       "2       20.42       21.51       21.345       20.875       20.91       20.745   \n",
       "3       20.42       21.55       21.480       20.930       21.15       20.790   \n",
       "4  1177536.00   974693.00  1490619.000  1263895.000  1354443.00  1230982.000   \n",
       "\n",
       "    2025-04-28  2025-04-25  2025-04-24  2025-04-23  ...   2024-12-23  \\\n",
       "0      20.6500      20.470       20.35       20.29  ...       20.710   \n",
       "1      20.7256      20.635       20.55       20.39  ...       20.855   \n",
       "2      20.4600      20.360       20.25       20.02  ...       20.500   \n",
       "3      20.6300      20.590       20.54       20.13  ...       20.760   \n",
       "4  783386.0000  715774.000   769590.00  1292692.00  ...  1380277.000   \n",
       "\n",
       "   2024-12-20  2024-12-19   2024-12-18  2024-12-17  2024-12-16  2024-12-13  \\\n",
       "0       20.22       20.25       20.760       19.95       19.94       20.46   \n",
       "1       20.43       20.33       21.025       20.28       20.37       20.48   \n",
       "2       20.13       19.99       20.120       19.90       19.85       20.12   \n",
       "3       20.31       20.09       20.140       20.03       20.02       20.17   \n",
       "4  1829681.00  1281450.00  1368010.000  1075782.00  2017427.00   931207.00   \n",
       "\n",
       "   2024-12-12  2024-12-11  2024-12-10  \n",
       "0      20.980       21.75      22.170  \n",
       "1      21.145       21.78      22.190  \n",
       "2      20.650       21.50      21.805  \n",
       "3      20.650       21.55      21.830  \n",
       "4  958726.000   636995.00  985509.000  \n",
       "\n",
       "[5 rows x 100 columns]"
      ]
     },
     "execution_count": 31,
     "metadata": {},
     "output_type": "execute_result"
    }
   ],
   "source": [
    "daily_df = pd.read_csv('../data/raw/gmab-daily.csv')\n",
    "daily_df"
   ]
  },
  {
   "cell_type": "code",
   "execution_count": 16,
   "id": "d8730806",
   "metadata": {},
   "outputs": [
    {
     "data": {
      "application/vnd.microsoft.datawrangler.viewer.v0+json": {
       "columns": [
        {
         "name": "index",
         "rawType": "int64",
         "type": "integer"
        },
        {
         "name": "Symbol",
         "rawType": "object",
         "type": "string"
        },
        {
         "name": "AssetType",
         "rawType": "object",
         "type": "string"
        },
        {
         "name": "Name",
         "rawType": "object",
         "type": "string"
        },
        {
         "name": "Description",
         "rawType": "object",
         "type": "string"
        },
        {
         "name": "CIK",
         "rawType": "int64",
         "type": "integer"
        },
        {
         "name": "Exchange",
         "rawType": "object",
         "type": "string"
        },
        {
         "name": "Currency",
         "rawType": "object",
         "type": "string"
        },
        {
         "name": "Country",
         "rawType": "object",
         "type": "string"
        },
        {
         "name": "Sector",
         "rawType": "object",
         "type": "string"
        },
        {
         "name": "Industry",
         "rawType": "object",
         "type": "string"
        },
        {
         "name": "Address",
         "rawType": "object",
         "type": "string"
        },
        {
         "name": "OfficialSite",
         "rawType": "object",
         "type": "string"
        },
        {
         "name": "FiscalYearEnd",
         "rawType": "object",
         "type": "string"
        },
        {
         "name": "LatestQuarter",
         "rawType": "object",
         "type": "string"
        },
        {
         "name": "MarketCapitalization",
         "rawType": "int64",
         "type": "integer"
        },
        {
         "name": "EBITDA",
         "rawType": "int64",
         "type": "integer"
        },
        {
         "name": "PERatio",
         "rawType": "float64",
         "type": "float"
        },
        {
         "name": "PEGRatio",
         "rawType": "float64",
         "type": "float"
        },
        {
         "name": "BookValue",
         "rawType": "float64",
         "type": "float"
        },
        {
         "name": "DividendPerShare",
         "rawType": "float64",
         "type": "float"
        },
        {
         "name": "DividendYield",
         "rawType": "float64",
         "type": "float"
        },
        {
         "name": "EPS",
         "rawType": "float64",
         "type": "float"
        },
        {
         "name": "RevenuePerShareTTM",
         "rawType": "float64",
         "type": "float"
        },
        {
         "name": "ProfitMargin",
         "rawType": "float64",
         "type": "float"
        },
        {
         "name": "OperatingMarginTTM",
         "rawType": "float64",
         "type": "float"
        },
        {
         "name": "ReturnOnAssetsTTM",
         "rawType": "float64",
         "type": "float"
        },
        {
         "name": "ReturnOnEquityTTM",
         "rawType": "float64",
         "type": "float"
        },
        {
         "name": "RevenueTTM",
         "rawType": "int64",
         "type": "integer"
        },
        {
         "name": "GrossProfitTTM",
         "rawType": "int64",
         "type": "integer"
        },
        {
         "name": "DilutedEPSTTM",
         "rawType": "float64",
         "type": "float"
        },
        {
         "name": "QuarterlyEarningsGrowthYOY",
         "rawType": "float64",
         "type": "float"
        },
        {
         "name": "QuarterlyRevenueGrowthYOY",
         "rawType": "float64",
         "type": "float"
        },
        {
         "name": "AnalystTargetPrice",
         "rawType": "float64",
         "type": "float"
        },
        {
         "name": "AnalystRatingStrongBuy",
         "rawType": "object",
         "type": "string"
        },
        {
         "name": "AnalystRatingBuy",
         "rawType": "object",
         "type": "string"
        },
        {
         "name": "AnalystRatingHold",
         "rawType": "object",
         "type": "string"
        },
        {
         "name": "AnalystRatingSell",
         "rawType": "object",
         "type": "string"
        },
        {
         "name": "AnalystRatingStrongSell",
         "rawType": "object",
         "type": "string"
        },
        {
         "name": "TrailingPE",
         "rawType": "float64",
         "type": "float"
        },
        {
         "name": "ForwardPE",
         "rawType": "float64",
         "type": "float"
        },
        {
         "name": "PriceToSalesRatioTTM",
         "rawType": "float64",
         "type": "float"
        },
        {
         "name": "PriceToBookRatio",
         "rawType": "float64",
         "type": "float"
        },
        {
         "name": "EVToRevenue",
         "rawType": "float64",
         "type": "float"
        },
        {
         "name": "EVToEBITDA",
         "rawType": "float64",
         "type": "float"
        },
        {
         "name": "Beta",
         "rawType": "float64",
         "type": "float"
        },
        {
         "name": "52WeekHigh",
         "rawType": "float64",
         "type": "float"
        },
        {
         "name": "52WeekLow",
         "rawType": "float64",
         "type": "float"
        },
        {
         "name": "50DayMovingAverage",
         "rawType": "float64",
         "type": "float"
        },
        {
         "name": "200DayMovingAverage",
         "rawType": "float64",
         "type": "float"
        },
        {
         "name": "SharesOutstanding",
         "rawType": "int64",
         "type": "integer"
        },
        {
         "name": "DividendDate",
         "rawType": "float64",
         "type": "float"
        },
        {
         "name": "ExDividendDate",
         "rawType": "float64",
         "type": "float"
        }
       ],
       "conversionMethod": "pd.DataFrame",
       "ref": "73007ed3-e46d-4f81-963f-2e4b84c235c7",
       "rows": [
        [
         "0",
         "GMAB",
         "Common Stock",
         "Genmab AS",
         "Genmab A / S develops antibody therapies for the treatment of cancer and other diseases mainly in Denmark. The company is headquartered in Copenhagen, Denmark.",
         "1434265",
         "NASDAQ",
         "USD",
         "USA",
         "LIFE SCIENCES",
         "PHARMACEUTICAL PREPARATIONS",
         "TOLDBODGADE 33, 1253 COPENHAGEN K, DK",
         "https://www.genmab.com",
         "December",
         "2024-12-31",
         "13497110000",
         "7390000000",
         "11.71",
         "1.131",
         "577.54",
         null,
         null,
         "1.84",
         "33.54",
         "0.364",
         "0.352",
         "0.109",
         "0.23",
         "21526000000",
         "20541000000",
         "1.84",
         "4.634",
         "0.353",
         "29.5",
         "-",
         "-",
         "-",
         "-",
         "-",
         "11.71",
         "11.88",
         "0.627",
         "2.401",
         "3.177",
         "7.05",
         "0.901",
         "30.41",
         "17.23",
         "20.53",
         "22.69",
         "622357000",
         null,
         null
        ]
       ],
       "shape": {
        "columns": 52,
        "rows": 1
       }
      },
      "text/html": [
       "<div>\n",
       "<style scoped>\n",
       "    .dataframe tbody tr th:only-of-type {\n",
       "        vertical-align: middle;\n",
       "    }\n",
       "\n",
       "    .dataframe tbody tr th {\n",
       "        vertical-align: top;\n",
       "    }\n",
       "\n",
       "    .dataframe thead th {\n",
       "        text-align: right;\n",
       "    }\n",
       "</style>\n",
       "<table border=\"1\" class=\"dataframe\">\n",
       "  <thead>\n",
       "    <tr style=\"text-align: right;\">\n",
       "      <th></th>\n",
       "      <th>Symbol</th>\n",
       "      <th>AssetType</th>\n",
       "      <th>Name</th>\n",
       "      <th>Description</th>\n",
       "      <th>CIK</th>\n",
       "      <th>Exchange</th>\n",
       "      <th>Currency</th>\n",
       "      <th>Country</th>\n",
       "      <th>Sector</th>\n",
       "      <th>Industry</th>\n",
       "      <th>...</th>\n",
       "      <th>EVToRevenue</th>\n",
       "      <th>EVToEBITDA</th>\n",
       "      <th>Beta</th>\n",
       "      <th>52WeekHigh</th>\n",
       "      <th>52WeekLow</th>\n",
       "      <th>50DayMovingAverage</th>\n",
       "      <th>200DayMovingAverage</th>\n",
       "      <th>SharesOutstanding</th>\n",
       "      <th>DividendDate</th>\n",
       "      <th>ExDividendDate</th>\n",
       "    </tr>\n",
       "  </thead>\n",
       "  <tbody>\n",
       "    <tr>\n",
       "      <th>0</th>\n",
       "      <td>GMAB</td>\n",
       "      <td>Common Stock</td>\n",
       "      <td>Genmab AS</td>\n",
       "      <td>Genmab A / S develops antibody therapies for t...</td>\n",
       "      <td>1434265</td>\n",
       "      <td>NASDAQ</td>\n",
       "      <td>USD</td>\n",
       "      <td>USA</td>\n",
       "      <td>LIFE SCIENCES</td>\n",
       "      <td>PHARMACEUTICAL PREPARATIONS</td>\n",
       "      <td>...</td>\n",
       "      <td>3.177</td>\n",
       "      <td>7.05</td>\n",
       "      <td>0.901</td>\n",
       "      <td>30.41</td>\n",
       "      <td>17.23</td>\n",
       "      <td>20.53</td>\n",
       "      <td>22.69</td>\n",
       "      <td>622357000</td>\n",
       "      <td>NaN</td>\n",
       "      <td>NaN</td>\n",
       "    </tr>\n",
       "  </tbody>\n",
       "</table>\n",
       "<p>1 rows × 52 columns</p>\n",
       "</div>"
      ],
      "text/plain": [
       "  Symbol     AssetType       Name  \\\n",
       "0   GMAB  Common Stock  Genmab AS   \n",
       "\n",
       "                                         Description      CIK Exchange  \\\n",
       "0  Genmab A / S develops antibody therapies for t...  1434265   NASDAQ   \n",
       "\n",
       "  Currency Country         Sector                     Industry  ...  \\\n",
       "0      USD     USA  LIFE SCIENCES  PHARMACEUTICAL PREPARATIONS  ...   \n",
       "\n",
       "  EVToRevenue EVToEBITDA   Beta 52WeekHigh  52WeekLow  50DayMovingAverage  \\\n",
       "0       3.177       7.05  0.901      30.41      17.23               20.53   \n",
       "\n",
       "   200DayMovingAverage  SharesOutstanding  DividendDate  ExDividendDate  \n",
       "0                22.69          622357000           NaN             NaN  \n",
       "\n",
       "[1 rows x 52 columns]"
      ]
     },
     "execution_count": 16,
     "metadata": {},
     "output_type": "execute_result"
    }
   ],
   "source": [
    "overview_df = pd.read_csv('../data/raw/gmab-overview.csv')\n",
    "overview_df"
   ]
  },
  {
   "cell_type": "code",
   "execution_count": null,
   "id": "e054557c",
   "metadata": {},
   "outputs": [],
   "source": [
    "# Merge the dataframes for company overview together for both companies \n",
    "\n",
    "# Remove columns that are not needed - fiscal year, market capitalisation etc\n",
    "\n",
    "# check for missing or erronous data\n",
    "\n",
    "# Rename columns so that they are lower case \n",
    "\n",
    "# Add primary ID\n",
    "\n",
    "# rearrange columns \n",
    "\n"
   ]
  },
  {
   "cell_type": "code",
   "execution_count": null,
   "id": "3afcef19",
   "metadata": {},
   "outputs": [],
   "source": [
    "# Dataframe needs to be changed - so that columns are date, low high etc . may need to change this in extract\n",
    "\n",
    "# check for missing or erronous data - especially volume as I believe I saw some missing data\n",
    "\n",
    "# Rename columns so that they are lower case \n",
    "\n",
    "# Add primary ID and add foreign ID that will match the ID in the overview table\n",
    "\n",
    "# rearrange columns "
   ]
  }
 ],
 "metadata": {
  "kernelspec": {
   "display_name": ".venv",
   "language": "python",
   "name": "python3"
  },
  "language_info": {
   "codemirror_mode": {
    "name": "ipython",
    "version": 3
   },
   "file_extension": ".py",
   "mimetype": "text/x-python",
   "name": "python",
   "nbconvert_exporter": "python",
   "pygments_lexer": "ipython3",
   "version": "3.12.2"
  }
 },
 "nbformat": 4,
 "nbformat_minor": 5
}
